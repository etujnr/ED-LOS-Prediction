{
 "cells": [
  {
   "cell_type": "code",
   "execution_count": 1,
   "metadata": {},
   "outputs": [],
   "source": [
    "import pandas as pd\n",
    "from sklearn.linear_model import LinearRegression, LogisticRegression\n",
    "from sklearn.metrics import mean_squared_error, confusion_matrix, classification_report, roc_auc_score, f1_score, accuracy_score\n",
    "from sklearn.model_selection import cross_validate\n",
    "from sklearn.model_selection import train_test_split\n",
    "from sklearn.metrics import r2_score\n",
    "from sklearn.ensemble import GradientBoostingClassifier\n",
    "import matplotlib.pyplot as plt"
   ]
  },
  {
   "cell_type": "code",
   "execution_count": 2,
   "metadata": {},
   "outputs": [],
   "source": [
    "data = pd.read_excel('Covid_patients.xlsx')"
   ]
  },
  {
   "cell_type": "code",
   "execution_count": 3,
   "metadata": {},
   "outputs": [
    {
     "data": {
      "text/html": [
       "<div>\n",
       "<style scoped>\n",
       "    .dataframe tbody tr th:only-of-type {\n",
       "        vertical-align: middle;\n",
       "    }\n",
       "\n",
       "    .dataframe tbody tr th {\n",
       "        vertical-align: top;\n",
       "    }\n",
       "\n",
       "    .dataframe thead th {\n",
       "        text-align: right;\n",
       "    }\n",
       "</style>\n",
       "<table border=\"1\" class=\"dataframe\">\n",
       "  <thead>\n",
       "    <tr style=\"text-align: right;\">\n",
       "      <th></th>\n",
       "      <th>Date - Month</th>\n",
       "      <th>Date - Day</th>\n",
       "      <th>PatientZipCode</th>\n",
       "      <th>EDLengthofStayInHrs</th>\n",
       "      <th>PatientRace</th>\n",
       "      <th>PatientSex</th>\n",
       "      <th>ArrivalMethod</th>\n",
       "      <th>EdDisposition</th>\n",
       "      <th>DischargeDisposition</th>\n",
       "      <th>AcuityLevel</th>\n",
       "      <th>...</th>\n",
       "      <th>DM</th>\n",
       "      <th>CKD</th>\n",
       "      <th>ESRD</th>\n",
       "      <th>Cancer</th>\n",
       "      <th>HIV</th>\n",
       "      <th>Asthma</th>\n",
       "      <th>HTN</th>\n",
       "      <th>Transplant</th>\n",
       "      <th>LowIncome</th>\n",
       "      <th>obese</th>\n",
       "    </tr>\n",
       "  </thead>\n",
       "  <tbody>\n",
       "    <tr>\n",
       "      <td>0</td>\n",
       "      <td>March</td>\n",
       "      <td>11</td>\n",
       "      <td>48025</td>\n",
       "      <td>10</td>\n",
       "      <td>Black</td>\n",
       "      <td>Male</td>\n",
       "      <td>Car</td>\n",
       "      <td>Admit</td>\n",
       "      <td>Expired</td>\n",
       "      <td>2 - Emergent</td>\n",
       "      <td>...</td>\n",
       "      <td>1</td>\n",
       "      <td>1</td>\n",
       "      <td>1</td>\n",
       "      <td>0</td>\n",
       "      <td>0</td>\n",
       "      <td>0</td>\n",
       "      <td>1</td>\n",
       "      <td>1</td>\n",
       "      <td>0</td>\n",
       "      <td>0</td>\n",
       "    </tr>\n",
       "    <tr>\n",
       "      <td>1</td>\n",
       "      <td>March</td>\n",
       "      <td>23</td>\n",
       "      <td>48023</td>\n",
       "      <td>13</td>\n",
       "      <td>White</td>\n",
       "      <td>Male</td>\n",
       "      <td>Other</td>\n",
       "      <td>Admit</td>\n",
       "      <td>Home or Self Care</td>\n",
       "      <td>2 - Emergent</td>\n",
       "      <td>...</td>\n",
       "      <td>0</td>\n",
       "      <td>0</td>\n",
       "      <td>0</td>\n",
       "      <td>0</td>\n",
       "      <td>0</td>\n",
       "      <td>0</td>\n",
       "      <td>0</td>\n",
       "      <td>0</td>\n",
       "      <td>0</td>\n",
       "      <td>1</td>\n",
       "    </tr>\n",
       "    <tr>\n",
       "      <td>2</td>\n",
       "      <td>March</td>\n",
       "      <td>23</td>\n",
       "      <td>48021</td>\n",
       "      <td>3</td>\n",
       "      <td>Black</td>\n",
       "      <td>Female</td>\n",
       "      <td>Car</td>\n",
       "      <td>Admit</td>\n",
       "      <td>Home or Self Care</td>\n",
       "      <td>2 - Emergent</td>\n",
       "      <td>...</td>\n",
       "      <td>0</td>\n",
       "      <td>0</td>\n",
       "      <td>0</td>\n",
       "      <td>0</td>\n",
       "      <td>0</td>\n",
       "      <td>0</td>\n",
       "      <td>0</td>\n",
       "      <td>0</td>\n",
       "      <td>1</td>\n",
       "      <td>1</td>\n",
       "    </tr>\n",
       "    <tr>\n",
       "      <td>3</td>\n",
       "      <td>March</td>\n",
       "      <td>24</td>\n",
       "      <td>48083</td>\n",
       "      <td>14</td>\n",
       "      <td>Do Not Know</td>\n",
       "      <td>Male</td>\n",
       "      <td>Rapid Response EMS</td>\n",
       "      <td>Admit</td>\n",
       "      <td>Expired</td>\n",
       "      <td>1 - Immediate</td>\n",
       "      <td>...</td>\n",
       "      <td>1</td>\n",
       "      <td>0</td>\n",
       "      <td>0</td>\n",
       "      <td>0</td>\n",
       "      <td>0</td>\n",
       "      <td>0</td>\n",
       "      <td>1</td>\n",
       "      <td>0</td>\n",
       "      <td>0</td>\n",
       "      <td>1</td>\n",
       "    </tr>\n",
       "    <tr>\n",
       "      <td>4</td>\n",
       "      <td>March</td>\n",
       "      <td>28</td>\n",
       "      <td>48071</td>\n",
       "      <td>18</td>\n",
       "      <td>Black</td>\n",
       "      <td>Male</td>\n",
       "      <td>Car</td>\n",
       "      <td>Admit</td>\n",
       "      <td>Home or Self Care</td>\n",
       "      <td>2 - Emergent</td>\n",
       "      <td>...</td>\n",
       "      <td>1</td>\n",
       "      <td>0</td>\n",
       "      <td>0</td>\n",
       "      <td>0</td>\n",
       "      <td>0</td>\n",
       "      <td>1</td>\n",
       "      <td>1</td>\n",
       "      <td>0</td>\n",
       "      <td>1</td>\n",
       "      <td>1</td>\n",
       "    </tr>\n",
       "    <tr>\n",
       "      <td>...</td>\n",
       "      <td>...</td>\n",
       "      <td>...</td>\n",
       "      <td>...</td>\n",
       "      <td>...</td>\n",
       "      <td>...</td>\n",
       "      <td>...</td>\n",
       "      <td>...</td>\n",
       "      <td>...</td>\n",
       "      <td>...</td>\n",
       "      <td>...</td>\n",
       "      <td>...</td>\n",
       "      <td>...</td>\n",
       "      <td>...</td>\n",
       "      <td>...</td>\n",
       "      <td>...</td>\n",
       "      <td>...</td>\n",
       "      <td>...</td>\n",
       "      <td>...</td>\n",
       "      <td>...</td>\n",
       "      <td>...</td>\n",
       "      <td>...</td>\n",
       "    </tr>\n",
       "    <tr>\n",
       "      <td>531</td>\n",
       "      <td>March</td>\n",
       "      <td>21</td>\n",
       "      <td>48342-3434</td>\n",
       "      <td>6</td>\n",
       "      <td>Black</td>\n",
       "      <td>Male</td>\n",
       "      <td>Other</td>\n",
       "      <td>Admit</td>\n",
       "      <td>Expired</td>\n",
       "      <td>2 - Emergent</td>\n",
       "      <td>...</td>\n",
       "      <td>1</td>\n",
       "      <td>0</td>\n",
       "      <td>0</td>\n",
       "      <td>0</td>\n",
       "      <td>0</td>\n",
       "      <td>0</td>\n",
       "      <td>1</td>\n",
       "      <td>0</td>\n",
       "      <td>1</td>\n",
       "      <td>1</td>\n",
       "    </tr>\n",
       "    <tr>\n",
       "      <td>532</td>\n",
       "      <td>April</td>\n",
       "      <td>3</td>\n",
       "      <td>48323-2797</td>\n",
       "      <td>19</td>\n",
       "      <td>White</td>\n",
       "      <td>Male</td>\n",
       "      <td>Rapid Response EMS</td>\n",
       "      <td>Admit</td>\n",
       "      <td>Home or Self Care</td>\n",
       "      <td>3 - Urgent</td>\n",
       "      <td>...</td>\n",
       "      <td>1</td>\n",
       "      <td>0</td>\n",
       "      <td>0</td>\n",
       "      <td>0</td>\n",
       "      <td>0</td>\n",
       "      <td>0</td>\n",
       "      <td>0</td>\n",
       "      <td>0</td>\n",
       "      <td>0</td>\n",
       "      <td>0</td>\n",
       "    </tr>\n",
       "    <tr>\n",
       "      <td>533</td>\n",
       "      <td>April</td>\n",
       "      <td>11</td>\n",
       "      <td>49201</td>\n",
       "      <td>15</td>\n",
       "      <td>White</td>\n",
       "      <td>Male</td>\n",
       "      <td>Detroit EMS</td>\n",
       "      <td>Admit</td>\n",
       "      <td>Skilled Nursing Facility</td>\n",
       "      <td>1 - Immediate</td>\n",
       "      <td>...</td>\n",
       "      <td>0</td>\n",
       "      <td>1</td>\n",
       "      <td>0</td>\n",
       "      <td>0</td>\n",
       "      <td>0</td>\n",
       "      <td>0</td>\n",
       "      <td>1</td>\n",
       "      <td>0</td>\n",
       "      <td>0</td>\n",
       "      <td>0</td>\n",
       "    </tr>\n",
       "    <tr>\n",
       "      <td>534</td>\n",
       "      <td>April</td>\n",
       "      <td>14</td>\n",
       "      <td>49230</td>\n",
       "      <td>1</td>\n",
       "      <td>White</td>\n",
       "      <td>Male</td>\n",
       "      <td>Detroit EMS</td>\n",
       "      <td>Discharge</td>\n",
       "      <td>Home or Self Care</td>\n",
       "      <td>2 - Emergent</td>\n",
       "      <td>...</td>\n",
       "      <td>0</td>\n",
       "      <td>0</td>\n",
       "      <td>0</td>\n",
       "      <td>0</td>\n",
       "      <td>0</td>\n",
       "      <td>0</td>\n",
       "      <td>0</td>\n",
       "      <td>0</td>\n",
       "      <td>0</td>\n",
       "      <td>1</td>\n",
       "    </tr>\n",
       "    <tr>\n",
       "      <td>535</td>\n",
       "      <td>April</td>\n",
       "      <td>17</td>\n",
       "      <td>77520</td>\n",
       "      <td>6</td>\n",
       "      <td>Black</td>\n",
       "      <td>Female</td>\n",
       "      <td>Car</td>\n",
       "      <td>Admit</td>\n",
       "      <td>Home Health Care Service</td>\n",
       "      <td>2 - Emergent</td>\n",
       "      <td>...</td>\n",
       "      <td>1</td>\n",
       "      <td>1</td>\n",
       "      <td>0</td>\n",
       "      <td>0</td>\n",
       "      <td>0</td>\n",
       "      <td>0</td>\n",
       "      <td>1</td>\n",
       "      <td>0</td>\n",
       "      <td>0</td>\n",
       "      <td>1</td>\n",
       "    </tr>\n",
       "  </tbody>\n",
       "</table>\n",
       "<p>536 rows × 55 columns</p>\n",
       "</div>"
      ],
      "text/plain": [
       "    Date - Month  Date - Day PatientZipCode  EDLengthofStayInHrs  PatientRace  \\\n",
       "0          March          11          48025                   10        Black   \n",
       "1          March          23          48023                   13        White   \n",
       "2          March          23          48021                    3        Black   \n",
       "3          March          24          48083                   14  Do Not Know   \n",
       "4          March          28          48071                   18        Black   \n",
       "..           ...         ...            ...                  ...          ...   \n",
       "531        March          21     48342-3434                    6        Black   \n",
       "532        April           3     48323-2797                   19        White   \n",
       "533        April          11          49201                   15        White   \n",
       "534        April          14          49230                    1        White   \n",
       "535        April          17          77520                    6        Black   \n",
       "\n",
       "    PatientSex       ArrivalMethod EdDisposition      DischargeDisposition  \\\n",
       "0         Male                 Car         Admit                   Expired   \n",
       "1         Male               Other         Admit         Home or Self Care   \n",
       "2       Female                 Car         Admit         Home or Self Care   \n",
       "3         Male  Rapid Response EMS         Admit                   Expired   \n",
       "4         Male                 Car         Admit         Home or Self Care   \n",
       "..         ...                 ...           ...                       ...   \n",
       "531       Male               Other         Admit                   Expired   \n",
       "532       Male  Rapid Response EMS         Admit         Home or Self Care   \n",
       "533       Male         Detroit EMS         Admit  Skilled Nursing Facility   \n",
       "534       Male         Detroit EMS     Discharge         Home or Self Care   \n",
       "535     Female                 Car         Admit  Home Health Care Service   \n",
       "\n",
       "       AcuityLevel  ... DM CKD ESRD Cancer HIV Asthma HTN Transplant  \\\n",
       "0     2 - Emergent  ...  1   1    1      0   0      0   1          1   \n",
       "1     2 - Emergent  ...  0   0    0      0   0      0   0          0   \n",
       "2     2 - Emergent  ...  0   0    0      0   0      0   0          0   \n",
       "3    1 - Immediate  ...  1   0    0      0   0      0   1          0   \n",
       "4     2 - Emergent  ...  1   0    0      0   0      1   1          0   \n",
       "..             ...  ... ..  ..  ...    ...  ..    ...  ..        ...   \n",
       "531   2 - Emergent  ...  1   0    0      0   0      0   1          0   \n",
       "532     3 - Urgent  ...  1   0    0      0   0      0   0          0   \n",
       "533  1 - Immediate  ...  0   1    0      0   0      0   1          0   \n",
       "534   2 - Emergent  ...  0   0    0      0   0      0   0          0   \n",
       "535   2 - Emergent  ...  1   1    0      0   0      0   1          0   \n",
       "\n",
       "    LowIncome obese  \n",
       "0           0     0  \n",
       "1           0     1  \n",
       "2           1     1  \n",
       "3           0     1  \n",
       "4           1     1  \n",
       "..        ...   ...  \n",
       "531         1     1  \n",
       "532         0     0  \n",
       "533         0     0  \n",
       "534         0     1  \n",
       "535         0     1  \n",
       "\n",
       "[536 rows x 55 columns]"
      ]
     },
     "execution_count": 3,
     "metadata": {},
     "output_type": "execute_result"
    }
   ],
   "source": [
    "data"
   ]
  },
  {
   "cell_type": "code",
   "execution_count": 4,
   "metadata": {},
   "outputs": [
    {
     "name": "stderr",
     "output_type": "stream",
     "text": [
      "/Users/egbeetuetu/opt/anaconda3/lib/python3.7/site-packages/IPython/core/interactiveshell.py:3058: DtypeWarning: Columns (0,1,3,4,6,7,8) have mixed types. Specify dtype option on import or set low_memory=False.\n",
      "  interactivity=interactivity, compiler=compiler, result=result)\n"
     ]
    }
   ],
   "source": [
    "extra = pd.read_csv('./Extra attributes.csv')"
   ]
  },
  {
   "cell_type": "code",
   "execution_count": 5,
   "metadata": {},
   "outputs": [],
   "source": [
    "extra = extra.dropna(how='all')"
   ]
  },
  {
   "cell_type": "code",
   "execution_count": 6,
   "metadata": {},
   "outputs": [],
   "source": [
    "extra.loc[:, 'Date - Month'] = pd.to_datetime(extra.EDArrivalDate).dt.month_name()\n",
    "extra.loc[:, 'Date - Day'] = pd.to_datetime(extra.EDArrivalDate).dt.day\n",
    "extra.loc[:, 'PatientSex'] = extra.Sex\n",
    "extra.loc[:, 'PrimaryChiefComplaint'] = extra.Chief_Complaint\n",
    "extra.loc[:, 'ArrivalMethod'] = extra.Mode_of_Arrival"
   ]
  },
  {
   "cell_type": "code",
   "execution_count": 7,
   "metadata": {},
   "outputs": [
    {
     "data": {
      "text/plain": [
       "Index(['Date - Month', 'Date - Day', 'PatientZipCode', 'EDLengthofStayInHrs',\n",
       "       'PatientRace', 'PatientSex', 'ArrivalMethod', 'EdDisposition',\n",
       "       'DischargeDisposition', 'AcuityLevel', 'PatientClass', 'Bed Assigned',\n",
       "       'Age Group', 'PrimaryDiagnosisName', 'PrimaryChiefComplaint',\n",
       "       'ArrivalDayofWeek', 'Anesthesiologist Assigned', 'ED Tech Assigned',\n",
       "       'Fellow Assigned', 'Nursing Assistant', 'Physician',\n",
       "       'Physician Assistant', 'Registered Nurse', 'Resident', 'Technician',\n",
       "       'Hospitalist', 'Respiratory Therapist', 'insurance', 'ESI', 'Age',\n",
       "       'Temp', 'BMI', 'Resp_failure', 'Sepsis', 'O2_Flow', 'MI', 'CAD', 'CHF',\n",
       "       'PVD', 'Stroke', 'Dementia', 'COPD', 'Rheum', 'PepUlc', 'Liver', 'DM',\n",
       "       'CKD', 'ESRD', 'Cancer', 'HIV', 'Asthma', 'HTN', 'Transplant',\n",
       "       'LowIncome', 'obese'],\n",
       "      dtype='object')"
      ]
     },
     "execution_count": 7,
     "metadata": {},
     "output_type": "execute_result"
    }
   ],
   "source": [
    "data.columns"
   ]
  },
  {
   "cell_type": "code",
   "execution_count": 8,
   "metadata": {},
   "outputs": [],
   "source": [
    "data = pd.merge(data, extra, on=['Date - Month', 'Date - Day', 'Temp', 'Age',\n",
    "                                 'PatientSex', 'PatientClass', \n",
    "                                 'PrimaryChiefComplaint', 'ESI', 'ArrivalMethod'], how = 'left')"
   ]
  },
  {
   "cell_type": "code",
   "execution_count": 9,
   "metadata": {},
   "outputs": [],
   "source": [
    "# data.to_csv('merged.csv')"
   ]
  },
  {
   "cell_type": "markdown",
   "metadata": {},
   "source": [
    "## Print correlations for one-hot encoded categorical columns:"
   ]
  },
  {
   "cell_type": "code",
   "execution_count": 10,
   "metadata": {},
   "outputs": [
    {
     "name": "stdout",
     "output_type": "stream",
     "text": [
      "Date - Month\n"
     ]
    },
    {
     "data": {
      "text/plain": [
       "EDLengthofStayInHrs    1.000000\n",
       "April                 -0.346014\n",
       "March                  0.346014\n",
       "Name: EDLengthofStayInHrs, dtype: float64"
      ]
     },
     "metadata": {},
     "output_type": "display_data"
    },
    {
     "name": "stdout",
     "output_type": "stream",
     "text": [
      "============\n",
      "PatientZipCode\n"
     ]
    },
    {
     "data": {
      "text/plain": [
       "EDLengthofStayInHrs    1.000000\n",
       "43611-2103            -0.036522\n",
       "44109-3481            -0.044927\n",
       "48021                 -0.110567\n",
       "48023                  0.039125\n",
       "                         ...   \n",
       "48323-2797             0.089557\n",
       "48342-3434            -0.019712\n",
       "49201                  0.055936\n",
       "49230                 -0.061738\n",
       "77520                 -0.019712\n",
       "Name: EDLengthofStayInHrs, Length: 104, dtype: float64"
      ]
     },
     "metadata": {},
     "output_type": "display_data"
    },
    {
     "name": "stdout",
     "output_type": "stream",
     "text": [
      "============\n",
      "PatientRace\n"
     ]
    },
    {
     "data": {
      "text/plain": [
       "EDLengthofStayInHrs                 1.000000\n",
       "American Indian/Alaska Native      -0.019712\n",
       "Asian                              -0.048791\n",
       "Black                               0.016014\n",
       "Black/White                        -0.036522\n",
       "Decline                             0.098172\n",
       "Do Not Know                         0.012639\n",
       "Hispanic                           -0.042862\n",
       "Native Hawaiian/Pacific Islander   -0.053332\n",
       "Oriental                           -0.051698\n",
       "Other                              -0.012493\n",
       "White                              -0.025281\n",
       "Name: EDLengthofStayInHrs, dtype: float64"
      ]
     },
     "metadata": {},
     "output_type": "display_data"
    },
    {
     "name": "stdout",
     "output_type": "stream",
     "text": [
      "============\n",
      "PatientSex\n"
     ]
    },
    {
     "data": {
      "text/plain": [
       "EDLengthofStayInHrs    1.000000\n",
       "Female                 0.002476\n",
       "Male                  -0.002476\n",
       "Name: EDLengthofStayInHrs, dtype: float64"
      ]
     },
     "metadata": {},
     "output_type": "display_data"
    },
    {
     "name": "stdout",
     "output_type": "stream",
     "text": [
      "============\n",
      "ArrivalMethod\n"
     ]
    },
    {
     "data": {
      "text/plain": [
       "EDLengthofStayInHrs     1.000000\n",
       "*Unspecified           -0.011306\n",
       "Car                    -0.054356\n",
       "Community EMS          -0.044927\n",
       "Detroit EMS            -0.004628\n",
       "Hart EMS                0.074256\n",
       "Lifeline/Concord EMS    0.009551\n",
       "Med Star EMS            0.033619\n",
       "Other                   0.016832\n",
       "Other Ambulance         0.013814\n",
       "Rapid Response EMS      0.020972\n",
       "Superior EMS           -0.027317\n",
       "Walk In                 0.013193\n",
       "Wheelchair              0.102908\n",
       "Name: EDLengthofStayInHrs, dtype: float64"
      ]
     },
     "metadata": {},
     "output_type": "display_data"
    },
    {
     "name": "stdout",
     "output_type": "stream",
     "text": [
      "============\n",
      "EdDisposition\n"
     ]
    },
    {
     "data": {
      "text/plain": [
       "EDLengthofStayInHrs             1.000000\n",
       "Admit                           0.244952\n",
       "Discharge                      -0.357786\n",
       "Expired                         0.013909\n",
       "Place in Observation            0.030806\n",
       "Transfer to Another Facility    0.156610\n",
       "Name: EDLengthofStayInHrs, dtype: float64"
      ]
     },
     "metadata": {},
     "output_type": "display_data"
    },
    {
     "name": "stdout",
     "output_type": "stream",
     "text": [
      "============\n",
      "DischargeDisposition\n"
     ]
    },
    {
     "data": {
      "text/plain": [
       "EDLengthofStayInHrs                                                                      1.000000\n",
       "Another Health Care Facility                                                             0.027446\n",
       "Discharged/transferred to a Designated Disaster Alternate Care Site                     -0.036522\n",
       "Discharged/transferred to a federal health care facility with a planned acute care ho   -0.044927\n",
       "Expired                                                                                  0.111993\n",
       "Federal Hospital                                                                         0.043485\n",
       "Home Health Care Service                                                                 0.023348\n",
       "Home or Self Care                                                                       -0.162462\n",
       "Hospice Home                                                                            -0.016004\n",
       "IP Rehab Facility                                                                       -0.061738\n",
       "LWCS - Before MD Evaluation                                                             -0.061738\n",
       "Left Against Medical Advice                                                              0.038765\n",
       "Long Term Care                                                                           0.048969\n",
       "Psychiatric Hospital                                                                     0.063032\n",
       "Short Term Hospital                                                                      0.105410\n",
       "Skilled Nursing Facility                                                                 0.034857\n",
       "Name: EDLengthofStayInHrs, dtype: float64"
      ]
     },
     "metadata": {},
     "output_type": "display_data"
    },
    {
     "name": "stdout",
     "output_type": "stream",
     "text": [
      "============\n",
      "AcuityLevel\n"
     ]
    },
    {
     "data": {
      "text/plain": [
       "EDLengthofStayInHrs    1.000000\n",
       "1 - Immediate          0.098276\n",
       "2 - Emergent           0.042690\n",
       "3 - Urgent            -0.110907\n",
       "Name: EDLengthofStayInHrs, dtype: float64"
      ]
     },
     "metadata": {},
     "output_type": "display_data"
    },
    {
     "name": "stdout",
     "output_type": "stream",
     "text": [
      "============\n",
      "PatientClass\n"
     ]
    },
    {
     "data": {
      "text/plain": [
       "EDLengthofStayInHrs    1.000000\n",
       "Emergency             -0.272215\n",
       "Inpatient              0.251004\n",
       "Observation            0.014873\n",
       "Outpatient             0.055383\n",
       "Name: EDLengthofStayInHrs, dtype: float64"
      ]
     },
     "metadata": {},
     "output_type": "display_data"
    },
    {
     "name": "stdout",
     "output_type": "stream",
     "text": [
      "============\n",
      "Bed Assigned\n"
     ]
    },
    {
     "data": {
      "text/plain": [
       "EDLengthofStayInHrs    1.000000\n",
       "No                    -0.265609\n",
       "Yes                    0.265609\n",
       "Name: EDLengthofStayInHrs, dtype: float64"
      ]
     },
     "metadata": {},
     "output_type": "display_data"
    },
    {
     "name": "stdout",
     "output_type": "stream",
     "text": [
      "============\n",
      "Age Group\n"
     ]
    },
    {
     "data": {
      "text/plain": [
       "EDLengthofStayInHrs    1.000000\n",
       "10-19                 -0.045749\n",
       "20-29                 -0.125258\n",
       "30-39                 -0.035495\n",
       "40-49                 -0.036090\n",
       "50-59                 -0.017918\n",
       "60-69                  0.024649\n",
       "70-79                  0.088046\n",
       "80-89                 -0.016534\n",
       "90+                    0.064059\n",
       "Name: EDLengthofStayInHrs, dtype: float64"
      ]
     },
     "metadata": {},
     "output_type": "display_data"
    },
    {
     "name": "stdout",
     "output_type": "stream",
     "text": [
      "============\n",
      "PrimaryDiagnosisName\n"
     ]
    },
    {
     "data": {
      "text/plain": [
       "EDLengthofStayInHrs                   1.000000\n",
       "COVID-19                              0.058515\n",
       "Suspected COVID-19 virus infection   -0.058515\n",
       "Name: EDLengthofStayInHrs, dtype: float64"
      ]
     },
     "metadata": {},
     "output_type": "display_data"
    },
    {
     "name": "stdout",
     "output_type": "stream",
     "text": [
      "============\n",
      "PrimaryChiefComplaint\n"
     ]
    },
    {
     "data": {
      "text/plain": [
       "EDLengthofStayInHrs      1.000000\n",
       "ABDOMINAL PAIN           0.048365\n",
       "ABNORMAL LAB             0.004690\n",
       "ALLERGIC REACTION        0.097962\n",
       "ALTERED MENTAL STATUS   -0.000464\n",
       "                           ...   \n",
       "TACHYCARDIA             -0.044927\n",
       "URI                     -0.036522\n",
       "URINARY RETENTION        0.013909\n",
       "WEAKNESS                -0.003245\n",
       "WOUND                    0.089557\n",
       "Name: EDLengthofStayInHrs, Length: 63, dtype: float64"
      ]
     },
     "metadata": {},
     "output_type": "display_data"
    },
    {
     "name": "stdout",
     "output_type": "stream",
     "text": [
      "============\n",
      "ArrivalDayofWeek\n"
     ]
    },
    {
     "data": {
      "text/plain": [
       "EDLengthofStayInHrs    1.000000\n",
       "Friday                -0.031113\n",
       "Monday                -0.081602\n",
       "Saturday               0.107987\n",
       "Sunday                -0.043635\n",
       "Thursday               0.005107\n",
       "Tuesday                0.008388\n",
       "Wednesday              0.039271\n",
       "Name: EDLengthofStayInHrs, dtype: float64"
      ]
     },
     "metadata": {},
     "output_type": "display_data"
    },
    {
     "name": "stdout",
     "output_type": "stream",
     "text": [
      "============\n",
      "Anesthesiologist Assigned\n"
     ]
    },
    {
     "data": {
      "text/plain": [
       "EDLengthofStayInHrs    1.000000\n",
       "No                     0.010056\n",
       "Yes                   -0.010056\n",
       "Name: EDLengthofStayInHrs, dtype: float64"
      ]
     },
     "metadata": {},
     "output_type": "display_data"
    },
    {
     "name": "stdout",
     "output_type": "stream",
     "text": [
      "============\n",
      "ED Tech Assigned\n"
     ]
    },
    {
     "data": {
      "text/plain": [
       "EDLengthofStayInHrs    1.000000\n",
       "No                    -0.041126\n",
       "Yes                    0.041126\n",
       "Name: EDLengthofStayInHrs, dtype: float64"
      ]
     },
     "metadata": {},
     "output_type": "display_data"
    },
    {
     "name": "stdout",
     "output_type": "stream",
     "text": [
      "============\n",
      "Fellow Assigned\n"
     ]
    },
    {
     "data": {
      "text/plain": [
       "EDLengthofStayInHrs    1.000000\n",
       "No                    -0.016127\n",
       "Yes                    0.016127\n",
       "Name: EDLengthofStayInHrs, dtype: float64"
      ]
     },
     "metadata": {},
     "output_type": "display_data"
    },
    {
     "name": "stdout",
     "output_type": "stream",
     "text": [
      "============\n",
      "Nursing Assistant\n"
     ]
    },
    {
     "data": {
      "text/plain": [
       "EDLengthofStayInHrs    1.0\n",
       "No                     NaN\n",
       "Name: EDLengthofStayInHrs, dtype: float64"
      ]
     },
     "metadata": {},
     "output_type": "display_data"
    },
    {
     "name": "stdout",
     "output_type": "stream",
     "text": [
      "============\n",
      "Physician\n"
     ]
    },
    {
     "data": {
      "text/plain": [
       "EDLengthofStayInHrs    1.000000\n",
       "No                     0.026677\n",
       "Yes                   -0.026677\n",
       "Name: EDLengthofStayInHrs, dtype: float64"
      ]
     },
     "metadata": {},
     "output_type": "display_data"
    },
    {
     "name": "stdout",
     "output_type": "stream",
     "text": [
      "============\n",
      "Physician Assistant\n"
     ]
    },
    {
     "data": {
      "text/plain": [
       "EDLengthofStayInHrs    1.000000\n",
       "No                    -0.028746\n",
       "Yes                    0.028746\n",
       "Name: EDLengthofStayInHrs, dtype: float64"
      ]
     },
     "metadata": {},
     "output_type": "display_data"
    },
    {
     "name": "stdout",
     "output_type": "stream",
     "text": [
      "============\n",
      "Registered Nurse\n"
     ]
    },
    {
     "data": {
      "text/plain": [
       "EDLengthofStayInHrs    1.000000\n",
       "No                     0.082954\n",
       "Yes                   -0.082954\n",
       "Name: EDLengthofStayInHrs, dtype: float64"
      ]
     },
     "metadata": {},
     "output_type": "display_data"
    },
    {
     "name": "stdout",
     "output_type": "stream",
     "text": [
      "============\n",
      "Resident\n"
     ]
    },
    {
     "data": {
      "text/plain": [
       "EDLengthofStayInHrs    1.000000\n",
       "No                     0.123225\n",
       "Yes                   -0.123225\n",
       "Name: EDLengthofStayInHrs, dtype: float64"
      ]
     },
     "metadata": {},
     "output_type": "display_data"
    },
    {
     "name": "stdout",
     "output_type": "stream",
     "text": [
      "============\n",
      "Technician\n"
     ]
    },
    {
     "data": {
      "text/plain": [
       "EDLengthofStayInHrs    1.0\n",
       "No                     NaN\n",
       "Name: EDLengthofStayInHrs, dtype: float64"
      ]
     },
     "metadata": {},
     "output_type": "display_data"
    },
    {
     "name": "stdout",
     "output_type": "stream",
     "text": [
      "============\n",
      "Hospitalist\n"
     ]
    },
    {
     "data": {
      "text/plain": [
       "EDLengthofStayInHrs    1.000000\n",
       "No                     0.043929\n",
       "Yes                   -0.043929\n",
       "Name: EDLengthofStayInHrs, dtype: float64"
      ]
     },
     "metadata": {},
     "output_type": "display_data"
    },
    {
     "name": "stdout",
     "output_type": "stream",
     "text": [
      "============\n",
      "Respiratory Therapist\n"
     ]
    },
    {
     "data": {
      "text/plain": [
       "EDLengthofStayInHrs    1.0\n",
       "No                     NaN\n",
       "Name: EDLengthofStayInHrs, dtype: float64"
      ]
     },
     "metadata": {},
     "output_type": "display_data"
    },
    {
     "name": "stdout",
     "output_type": "stream",
     "text": [
      "============\n",
      "insurance_x\n"
     ]
    },
    {
     "data": {
      "text/plain": [
       "EDLengthofStayInHrs                1.000000\n",
       "Commercial                        -0.069676\n",
       "Medicaid                          -0.009558\n",
       "Medicare                           0.092003\n",
       "Worker's compensation insurance   -0.099253\n",
       "Name: EDLengthofStayInHrs, dtype: float64"
      ]
     },
     "metadata": {},
     "output_type": "display_data"
    },
    {
     "name": "stdout",
     "output_type": "stream",
     "text": [
      "============\n",
      "insurance_y\n"
     ]
    },
    {
     "data": {
      "text/plain": [
       "EDLengthofStayInHrs    1.000000\n",
       "Commercial            -0.069551\n",
       "Medicaid              -0.012204\n",
       "Medicare               0.103005\n",
       "Worker's c            -0.099253\n",
       "Name: EDLengthofStayInHrs, dtype: float64"
      ]
     },
     "metadata": {},
     "output_type": "display_data"
    },
    {
     "name": "stdout",
     "output_type": "stream",
     "text": [
      "============\n",
      "EDArrivalDate\n"
     ]
    },
    {
     "data": {
      "text/plain": [
       "EDLengthofStayInHrs    1.000000\n",
       "3/11/20                0.013909\n",
       "3/14/20               -0.002901\n",
       "3/15/20               -0.011306\n",
       "3/16/20               -0.044927\n",
       "3/19/20                0.095328\n",
       "3/20/20                0.013740\n",
       "3/21/20               -0.043749\n",
       "3/22/20                0.077617\n",
       "3/23/20                0.100906\n",
       "3/24/20                0.192392\n",
       "3/25/20                0.043485\n",
       "3/26/20                0.129593\n",
       "3/27/20                0.140319\n",
       "3/28/20                0.207742\n",
       "3/29/20                0.031861\n",
       "3/30/20                0.023732\n",
       "3/31/20                0.100173\n",
       "4/1/20                 0.179006\n",
       "4/10/20               -0.109423\n",
       "4/11/20               -0.055377\n",
       "4/12/20               -0.090634\n",
       "4/13/20               -0.098712\n",
       "4/14/20               -0.098416\n",
       "4/15/20               -0.087004\n",
       "4/16/20               -0.059582\n",
       "4/17/20               -0.122295\n",
       "4/18/20               -0.099103\n",
       "4/19/20               -0.048015\n",
       "4/2/20                 0.015275\n",
       "4/20/20               -0.081200\n",
       "4/21/20               -0.078200\n",
       "4/22/20               -0.059112\n",
       "4/23/20               -0.010284\n",
       "4/24/20               -0.044242\n",
       "4/25/20               -0.090785\n",
       "4/26/20               -0.031273\n",
       "4/27/20                0.006825\n",
       "4/28/20                0.005504\n",
       "4/29/20                0.019900\n",
       "4/3/20                 0.047081\n",
       "4/30/20               -0.019620\n",
       "4/4/20                 0.196248\n",
       "4/5/20                -0.014842\n",
       "4/6/20                -0.066901\n",
       "4/7/20                -0.095250\n",
       "4/8/20                -0.038279\n",
       "4/9/20                -0.120150\n",
       "Name: EDLengthofStayInHrs, dtype: float64"
      ]
     },
     "metadata": {},
     "output_type": "display_data"
    },
    {
     "name": "stdout",
     "output_type": "stream",
     "text": [
      "============\n",
      "Chief_Complaint\n"
     ]
    },
    {
     "data": {
      "text/plain": [
       "EDLengthofStayInHrs      1.000000\n",
       "ABDOMINAL PAIN           0.048365\n",
       "ABNORMAL LAB             0.004690\n",
       "ALLERGIC REACTION        0.097962\n",
       "ALTERED MENTAL STATUS    0.005927\n",
       "                           ...   \n",
       "TACHYCARDIA             -0.044927\n",
       "URI                     -0.036522\n",
       "URINARY RETENTION        0.013909\n",
       "WEAKNESS                -0.003245\n",
       "WOUND                    0.089557\n",
       "Name: EDLengthofStayInHrs, Length: 62, dtype: float64"
      ]
     },
     "metadata": {},
     "output_type": "display_data"
    },
    {
     "name": "stdout",
     "output_type": "stream",
     "text": [
      "============\n",
      "Sex\n"
     ]
    },
    {
     "data": {
      "text/plain": [
       "EDLengthofStayInHrs    1.000000\n",
       "Female                 0.007380\n",
       "Male                   0.002188\n",
       "Name: EDLengthofStayInHrs, dtype: float64"
      ]
     },
     "metadata": {},
     "output_type": "display_data"
    },
    {
     "name": "stdout",
     "output_type": "stream",
     "text": [
      "============\n",
      "Race\n"
     ]
    },
    {
     "data": {
      "text/plain": [
       "EDLengthofStayInHrs                 1.000000\n",
       "American Indian/Alaska Native      -0.019712\n",
       "Asian                              -0.048791\n",
       "Black                               0.026457\n",
       "Black/White                        -0.036522\n",
       "Decline                             0.098172\n",
       "Do Not Know                         0.010026\n",
       "Hispanic                           -0.027825\n",
       "Native Hawaiian/Pacific Islander   -0.053332\n",
       "Oriental                           -0.051698\n",
       "Other                              -0.018527\n",
       "White                              -0.025281\n",
       "Name: EDLengthofStayInHrs, dtype: float64"
      ]
     },
     "metadata": {},
     "output_type": "display_data"
    },
    {
     "name": "stdout",
     "output_type": "stream",
     "text": [
      "============\n",
      "Mode_of_Arrival\n"
     ]
    },
    {
     "data": {
      "text/plain": [
       "EDLengthofStayInHrs     1.000000\n",
       "Car                    -0.042478\n",
       "Community EMS          -0.044927\n",
       "Detroit EMS            -0.008972\n",
       "Hart EMS                0.074256\n",
       "Lifeline/Concord EMS    0.009551\n",
       "Med Star EMS            0.033619\n",
       "Other                   0.016832\n",
       "Other Ambulance         0.015671\n",
       "Rapid Response EMS      0.020972\n",
       "Superior EMS           -0.027317\n",
       "Walk In                 0.012804\n",
       "Wheelchair              0.102908\n",
       "Name: EDLengthofStayInHrs, dtype: float64"
      ]
     },
     "metadata": {},
     "output_type": "display_data"
    },
    {
     "name": "stdout",
     "output_type": "stream",
     "text": [
      "============\n"
     ]
    }
   ],
   "source": [
    "for c in data.columns:\n",
    "    if str(data.dtypes.loc[c]) == 'object':\n",
    "        one_h = pd.get_dummies(data.loc[:,c])\n",
    "        print(c)\n",
    "        display(pd.concat([data.EDLengthofStayInHrs, one_h], axis=1).corr().EDLengthofStayInHrs)\n",
    "        print('============')"
   ]
  },
  {
   "cell_type": "markdown",
   "metadata": {},
   "source": [
    "## Regression LR"
   ]
  },
  {
   "cell_type": "code",
   "execution_count": 11,
   "metadata": {},
   "outputs": [],
   "source": [
    "X = data.loc[:, ['O2_Flow', 'Age', 'Resp_failure', 'ESI', 'CKD', 'HTN', 'DM', 'Stroke']]\n",
    "X = pd.concat([X, pd.get_dummies(data.PatientClass).loc[:, ['Emergency', 'Inpatient']]], axis=1)\n",
    "y = data.EDLengthofStayInHrs"
   ]
  },
  {
   "cell_type": "code",
   "execution_count": 12,
   "metadata": {},
   "outputs": [],
   "source": [
    "lr = LinearRegression()\n",
    "cv_results = cross_validate(lr, X, y, cv=3)"
   ]
  },
  {
   "cell_type": "code",
   "execution_count": 13,
   "metadata": {},
   "outputs": [
    {
     "data": {
      "text/plain": [
       "{'fit_time': array([0.28624105, 0.00489378, 0.00443697]),\n",
       " 'score_time': array([0.00314689, 0.00426292, 0.00223207]),\n",
       " 'test_score': array([0.0312632 , 0.04627313, 0.08393971])}"
      ]
     },
     "execution_count": 13,
     "metadata": {},
     "output_type": "execute_result"
    }
   ],
   "source": [
    "cv_results"
   ]
  },
  {
   "cell_type": "code",
   "execution_count": 14,
   "metadata": {},
   "outputs": [],
   "source": [
    "X_train, X_test, y_train, y_test = train_test_split(\n",
    "    X, y, test_size=0.33, random_state=42)"
   ]
  },
  {
   "cell_type": "code",
   "execution_count": 15,
   "metadata": {},
   "outputs": [
    {
     "data": {
      "text/plain": [
       "23.129795382182326"
      ]
     },
     "execution_count": 15,
     "metadata": {},
     "output_type": "execute_result"
    }
   ],
   "source": [
    "lr = LinearRegression()\n",
    "lr.fit(X_train, y_train)\n",
    "mean_squared_error(lr.predict(X_test), y_test)"
   ]
  },
  {
   "cell_type": "code",
   "execution_count": 16,
   "metadata": {},
   "outputs": [
    {
     "data": {
      "text/plain": [
       "-8.462171843752737"
      ]
     },
     "execution_count": 16,
     "metadata": {},
     "output_type": "execute_result"
    }
   ],
   "source": [
    "r2_score(lr.predict(X_test), y_test)"
   ]
  },
  {
   "cell_type": "markdown",
   "metadata": {},
   "source": [
    "## Classification"
   ]
  },
  {
   "cell_type": "markdown",
   "metadata": {},
   "source": [
    "Change bins here to try different binning:"
   ]
  },
  {
   "cell_type": "code",
   "execution_count": 17,
   "metadata": {},
   "outputs": [],
   "source": [
    "def temp(x):\n",
    "    if x > 100.4:\n",
    "        return \"High Temp\"\n",
    "    if x < 97:\n",
    "        return \"Low Temp\"\n",
    "    return \"Avg temp\""
   ]
  },
  {
   "cell_type": "code",
   "execution_count": 18,
   "metadata": {},
   "outputs": [
    {
     "data": {
      "text/plain": [
       "0       Avg temp\n",
       "1      High Temp\n",
       "2      High Temp\n",
       "3       Avg temp\n",
       "4       Avg temp\n",
       "         ...    \n",
       "531     Avg temp\n",
       "532     Avg temp\n",
       "533     Low Temp\n",
       "534     Avg temp\n",
       "535     Avg temp\n",
       "Name: Temp, Length: 536, dtype: object"
      ]
     },
     "execution_count": 18,
     "metadata": {},
     "output_type": "execute_result"
    }
   ],
   "source": [
    "data.Temp.apply(temp)"
   ]
  },
  {
   "cell_type": "code",
   "execution_count": 19,
   "metadata": {},
   "outputs": [],
   "source": [
    "X = data.loc[:, ['O2_Flow','Resp_failure', 'ESI', 'CKD', 'HTN', 'DM', 'Stroke', 'SBP', 'HR', 'RR', 'Spo2']]\n",
    "X = pd.concat([X, pd.get_dummies(data.PatientClass).loc[:, ['Emergency', 'Inpatient']]], axis=1)\n",
    "X = pd.concat([X, pd.get_dummies(data.loc[:, 'Age Group'])], axis=1)\n",
    "X = pd.concat([X, pd.get_dummies(data.Temp.apply(temp))], axis=1)\n",
    "# bins = [-1,3,6,9,12,24,200] # 30% accuracy\n",
    "# bins = [-1,6,12,200]      # 45% accuracy\n",
    "\n",
    "# bins = [-1,3,6,12,200]\n",
    "# bins = [-1,5,8,200]\n",
    "bins = [-1, 4, 200]\n",
    "y_bins = pd.cut(y, bins=bins).astype(str)"
   ]
  },
  {
   "cell_type": "markdown",
   "metadata": {},
   "source": [
    "### Data distribution"
   ]
  },
  {
   "cell_type": "code",
   "execution_count": 20,
   "metadata": {},
   "outputs": [
    {
     "data": {
      "text/plain": [
       "<matplotlib.axes._subplots.AxesSubplot at 0x7fc4d60c02d0>"
      ]
     },
     "execution_count": 20,
     "metadata": {},
     "output_type": "execute_result"
    },
    {
     "data": {
      "image/png": "[encoded data removed]",
      "text/plain": [
       "<Figure size 432x288 with 1 Axes>"
      ]
     },
     "metadata": {
      "needs_background": "light"
     },
     "output_type": "display_data"
    }
   ],
   "source": [
    "y_bins.value_counts().plot.bar()"
   ]
  },
  {
   "cell_type": "code",
   "execution_count": 21,
   "metadata": {},
   "outputs": [],
   "source": [
    "X = pd.concat([X, pd.get_dummies(data.ArrivalMethod)], axis=1)"
   ]
  },
  {
   "cell_type": "code",
   "execution_count": 86,
   "metadata": {},
   "outputs": [],
   "source": [
    "# oversample data:\n",
    "\n",
    "from imblearn.over_sampling import RandomOverSampler\n",
    "ros = RandomOverSampler(random_state=0)\n",
    "X_resampled, y_resampled = ros.fit_resample(X, y_bins)"
   ]
  },
  {
   "cell_type": "markdown",
   "metadata": {},
   "source": [
    "### Gradient Boosting:"
   ]
  },
  {
   "cell_type": "code",
   "execution_count": 151,
   "metadata": {},
   "outputs": [
    {
     "name": "stdout",
     "output_type": "stream",
     "text": [
      "Accuracy: 0.6166317260656883\n"
     ]
    }
   ],
   "source": [
    "grad_boosting = GradientBoostingClassifier(learning_rate=0.001)\n",
    "acc = cross_validate(grad_boosting, X_resampled.dropna(axis=1), y_resampled, cv=10)['test_score'].mean()\n",
    "print('Accuracy:', acc)"
   ]
  },
  {
   "cell_type": "code",
   "execution_count": 152,
   "metadata": {},
   "outputs": [
    {
     "data": {
      "text/plain": [
       "GradientBoostingClassifier(learning_rate=0.001)"
      ]
     },
     "execution_count": 152,
     "metadata": {},
     "output_type": "execute_result"
    }
   ],
   "source": [
    "X_train, X_test, y_train, y_test = train_test_split(\n",
    "    X.dropna(axis=1), y_bins, test_size=0.33, stratify=y_bins)\n",
    "\n",
    "ros = RandomOverSampler(random_state=0)\n",
    "X_resampled, y_resampled = ros.fit_resample(X_train, y_train)\n",
    "grad_boosting.fit(X_resampled, y_resampled)"
   ]
  },
  {
   "cell_type": "code",
   "execution_count": 153,
   "metadata": {},
   "outputs": [
    {
     "name": "stdout",
     "output_type": "stream",
     "text": [
      "              precision    recall  f1-score   support\n",
      "\n",
      "     (-1, 4]       0.85      0.34      0.48       116\n",
      "    (4, 200]       0.41      0.89      0.56        61\n",
      "\n",
      "    accuracy                           0.53       177\n",
      "   macro avg       0.63      0.61      0.52       177\n",
      "weighted avg       0.70      0.53      0.51       177\n",
      "\n"
     ]
    }
   ],
   "source": [
    "print(classification_report(grad_boosting.predict(X_test), y_test))"
   ]
  },
  {
   "cell_type": "markdown",
   "metadata": {},
   "source": [
    "### Decision tree, oversampled:"
   ]
  },
  {
   "cell_type": "code",
   "execution_count": 154,
   "metadata": {},
   "outputs": [],
   "source": [
    "from sklearn.tree import plot_tree\n",
    "from sklearn.tree import DecisionTreeClassifier"
   ]
  },
  {
   "cell_type": "code",
   "execution_count": 155,
   "metadata": {},
   "outputs": [],
   "source": [
    "columns = ['Community EMS', 'Emergency', 'Inpatient', 'O2_Flow']"
   ]
  },
  {
   "cell_type": "code",
   "execution_count": 156,
   "metadata": {},
   "outputs": [
    {
     "name": "stdout",
     "output_type": "stream",
     "text": [
      "0.6497175141242938\n"
     ]
    }
   ],
   "source": [
    "tree = DecisionTreeClassifier(max_depth=5)\n",
    "tree.fit(X_resampled.loc[:, columns], y_resampled)\n",
    "print(accuracy_score(tree.predict(X_test.loc[:, columns]), y_test))"
   ]
  },
  {
   "cell_type": "code",
   "execution_count": 150,
   "metadata": {},
   "outputs": [
    {
     "name": "stdout",
     "output_type": "stream",
     "text": [
      "              precision    recall  f1-score   support\n",
      "\n",
      "     (-1, 4]       0.72      0.36      0.48        92\n",
      "    (4, 200]       0.55      0.85      0.67        85\n",
      "\n",
      "    accuracy                           0.59       177\n",
      "   macro avg       0.63      0.60      0.57       177\n",
      "weighted avg       0.64      0.59      0.57       177\n",
      "\n"
     ]
    }
   ],
   "source": [
    "print(classification_report(tree.predict(X_test.loc[:, columns]), y_test))"
   ]
  },
  {
   "cell_type": "code",
   "execution_count": 145,
   "metadata": {},
   "outputs": [
    {
     "data": {
      "text/plain": [
       "[]"
      ]
     },
     "execution_count": 145,
     "metadata": {},
     "output_type": "execute_result"
    },
    {
     "data": {
      "image/png": "[encoded data removed]",
      "text/plain": [
       "<Figure size 1440x720 with 1 Axes>"
      ]
     },
     "metadata": {
      "needs_background": "light"
     },
     "output_type": "display_data"
    }
   ],
   "source": [
    "plt.figure(figsize=(20,10))\n",
    "plot_tree(tree, fontsize=12, feature_names=columns)\n",
    "plt.plot()"
   ]
  },
  {
   "cell_type": "code",
   "execution_count": 99,
   "metadata": {},
   "outputs": [],
   "source": [
    "import numpy as np"
   ]
  },
  {
   "cell_type": "code",
   "execution_count": 100,
   "metadata": {
    "scrolled": true
   },
   "outputs": [],
   "source": [
    "preds = []\n",
    "\n",
    "X_train, X_test, y_train, y_test = train_test_split(\n",
    "    X, y_bins, test_size=0.33, stratify=y_bins, random_state=42)\n",
    "\n",
    "ros = RandomOverSampler(random_state=0)\n",
    "X_resampled, y_resampled = ros.fit_resample(X_train, y_train)\n",
    "\n",
    "for col in X_resampled.columns:\n",
    "    tree = DecisionTreeClassifier(max_depth=1)\n",
    "    mask = np.squeeze(~X_resampled.loc[:, [col]].isna().values)\n",
    "    \n",
    "    tree.fit(X_resampled.loc[mask, [col]], y_resampled.loc[mask])\n",
    "    \n",
    "    mask = np.squeeze(~X_test.loc[:, [col]].isna().values)\n",
    "    preds.append([col, accuracy_score(tree.predict(X_test.loc[mask, [col]]), y_test.loc[mask])])"
   ]
  },
  {
   "cell_type": "code",
   "execution_count": 101,
   "metadata": {},
   "outputs": [
    {
     "data": {
      "text/html": [
       "<div>\n",
       "<style scoped>\n",
       "    .dataframe tbody tr th:only-of-type {\n",
       "        vertical-align: middle;\n",
       "    }\n",
       "\n",
       "    .dataframe tbody tr th {\n",
       "        vertical-align: top;\n",
       "    }\n",
       "\n",
       "    .dataframe thead th {\n",
       "        text-align: right;\n",
       "    }\n",
       "</style>\n",
       "<table border=\"1\" class=\"dataframe\">\n",
       "  <thead>\n",
       "    <tr style=\"text-align: right;\">\n",
       "      <th></th>\n",
       "      <th>predictor</th>\n",
       "      <th>accuracy</th>\n",
       "    </tr>\n",
       "  </thead>\n",
       "  <tbody>\n",
       "    <tr>\n",
       "      <td>11</td>\n",
       "      <td>Emergency</td>\n",
       "      <td>0.813559</td>\n",
       "    </tr>\n",
       "    <tr>\n",
       "      <td>12</td>\n",
       "      <td>Inpatient</td>\n",
       "      <td>0.796610</td>\n",
       "    </tr>\n",
       "    <tr>\n",
       "      <td>14</td>\n",
       "      <td>20-29</td>\n",
       "      <td>0.745763</td>\n",
       "    </tr>\n",
       "    <tr>\n",
       "      <td>13</td>\n",
       "      <td>10-19</td>\n",
       "      <td>0.740113</td>\n",
       "    </tr>\n",
       "    <tr>\n",
       "      <td>15</td>\n",
       "      <td>30-39</td>\n",
       "      <td>0.717514</td>\n",
       "    </tr>\n",
       "    <tr>\n",
       "      <td>32</td>\n",
       "      <td>Other</td>\n",
       "      <td>0.706215</td>\n",
       "    </tr>\n",
       "    <tr>\n",
       "      <td>7</td>\n",
       "      <td>SBP</td>\n",
       "      <td>0.678363</td>\n",
       "    </tr>\n",
       "    <tr>\n",
       "      <td>20</td>\n",
       "      <td>80-89</td>\n",
       "      <td>0.677966</td>\n",
       "    </tr>\n",
       "    <tr>\n",
       "      <td>4</td>\n",
       "      <td>HTN</td>\n",
       "      <td>0.661017</td>\n",
       "    </tr>\n",
       "    <tr>\n",
       "      <td>17</td>\n",
       "      <td>50-59</td>\n",
       "      <td>0.649718</td>\n",
       "    </tr>\n",
       "    <tr>\n",
       "      <td>23</td>\n",
       "      <td>High Temp</td>\n",
       "      <td>0.644068</td>\n",
       "    </tr>\n",
       "    <tr>\n",
       "      <td>22</td>\n",
       "      <td>Avg temp</td>\n",
       "      <td>0.632768</td>\n",
       "    </tr>\n",
       "    <tr>\n",
       "      <td>36</td>\n",
       "      <td>Walk In</td>\n",
       "      <td>0.627119</td>\n",
       "    </tr>\n",
       "    <tr>\n",
       "      <td>18</td>\n",
       "      <td>60-69</td>\n",
       "      <td>0.570621</td>\n",
       "    </tr>\n",
       "    <tr>\n",
       "      <td>1</td>\n",
       "      <td>Resp_failure</td>\n",
       "      <td>0.564972</td>\n",
       "    </tr>\n",
       "    <tr>\n",
       "      <td>8</td>\n",
       "      <td>HR</td>\n",
       "      <td>0.561404</td>\n",
       "    </tr>\n",
       "    <tr>\n",
       "      <td>26</td>\n",
       "      <td>Car</td>\n",
       "      <td>0.548023</td>\n",
       "    </tr>\n",
       "    <tr>\n",
       "      <td>3</td>\n",
       "      <td>CKD</td>\n",
       "      <td>0.525424</td>\n",
       "    </tr>\n",
       "    <tr>\n",
       "      <td>5</td>\n",
       "      <td>DM</td>\n",
       "      <td>0.514124</td>\n",
       "    </tr>\n",
       "    <tr>\n",
       "      <td>6</td>\n",
       "      <td>Stroke</td>\n",
       "      <td>0.389831</td>\n",
       "    </tr>\n",
       "    <tr>\n",
       "      <td>19</td>\n",
       "      <td>70-79</td>\n",
       "      <td>0.361582</td>\n",
       "    </tr>\n",
       "    <tr>\n",
       "      <td>28</td>\n",
       "      <td>Detroit EMS</td>\n",
       "      <td>0.333333</td>\n",
       "    </tr>\n",
       "    <tr>\n",
       "      <td>2</td>\n",
       "      <td>ESI</td>\n",
       "      <td>0.322034</td>\n",
       "    </tr>\n",
       "    <tr>\n",
       "      <td>9</td>\n",
       "      <td>RR</td>\n",
       "      <td>0.304094</td>\n",
       "    </tr>\n",
       "    <tr>\n",
       "      <td>0</td>\n",
       "      <td>O2_Flow</td>\n",
       "      <td>0.299435</td>\n",
       "    </tr>\n",
       "    <tr>\n",
       "      <td>10</td>\n",
       "      <td>Spo2</td>\n",
       "      <td>0.286550</td>\n",
       "    </tr>\n",
       "    <tr>\n",
       "      <td>21</td>\n",
       "      <td>90+</td>\n",
       "      <td>0.282486</td>\n",
       "    </tr>\n",
       "    <tr>\n",
       "      <td>33</td>\n",
       "      <td>Other Ambulance</td>\n",
       "      <td>0.276836</td>\n",
       "    </tr>\n",
       "    <tr>\n",
       "      <td>35</td>\n",
       "      <td>Superior EMS</td>\n",
       "      <td>0.271186</td>\n",
       "    </tr>\n",
       "    <tr>\n",
       "      <td>29</td>\n",
       "      <td>Hart EMS</td>\n",
       "      <td>0.265537</td>\n",
       "    </tr>\n",
       "    <tr>\n",
       "      <td>30</td>\n",
       "      <td>Lifeline/Concord EMS</td>\n",
       "      <td>0.265537</td>\n",
       "    </tr>\n",
       "    <tr>\n",
       "      <td>37</td>\n",
       "      <td>Wheelchair</td>\n",
       "      <td>0.265537</td>\n",
       "    </tr>\n",
       "    <tr>\n",
       "      <td>25</td>\n",
       "      <td>*Unspecified</td>\n",
       "      <td>0.259887</td>\n",
       "    </tr>\n",
       "    <tr>\n",
       "      <td>24</td>\n",
       "      <td>Low Temp</td>\n",
       "      <td>0.259887</td>\n",
       "    </tr>\n",
       "    <tr>\n",
       "      <td>27</td>\n",
       "      <td>Community EMS</td>\n",
       "      <td>0.259887</td>\n",
       "    </tr>\n",
       "    <tr>\n",
       "      <td>31</td>\n",
       "      <td>Med Star EMS</td>\n",
       "      <td>0.259887</td>\n",
       "    </tr>\n",
       "    <tr>\n",
       "      <td>16</td>\n",
       "      <td>40-49</td>\n",
       "      <td>0.259887</td>\n",
       "    </tr>\n",
       "    <tr>\n",
       "      <td>34</td>\n",
       "      <td>Rapid Response EMS</td>\n",
       "      <td>0.259887</td>\n",
       "    </tr>\n",
       "  </tbody>\n",
       "</table>\n",
       "</div>"
      ],
      "text/plain": [
       "               predictor  accuracy\n",
       "11             Emergency  0.813559\n",
       "12             Inpatient  0.796610\n",
       "14                 20-29  0.745763\n",
       "13                 10-19  0.740113\n",
       "15                 30-39  0.717514\n",
       "32                 Other  0.706215\n",
       "7                    SBP  0.678363\n",
       "20                 80-89  0.677966\n",
       "4                    HTN  0.661017\n",
       "17                 50-59  0.649718\n",
       "23             High Temp  0.644068\n",
       "22              Avg temp  0.632768\n",
       "36               Walk In  0.627119\n",
       "18                 60-69  0.570621\n",
       "1           Resp_failure  0.564972\n",
       "8                     HR  0.561404\n",
       "26                   Car  0.548023\n",
       "3                    CKD  0.525424\n",
       "5                     DM  0.514124\n",
       "6                 Stroke  0.389831\n",
       "19                 70-79  0.361582\n",
       "28           Detroit EMS  0.333333\n",
       "2                    ESI  0.322034\n",
       "9                     RR  0.304094\n",
       "0                O2_Flow  0.299435\n",
       "10                  Spo2  0.286550\n",
       "21                   90+  0.282486\n",
       "33       Other Ambulance  0.276836\n",
       "35          Superior EMS  0.271186\n",
       "29              Hart EMS  0.265537\n",
       "30  Lifeline/Concord EMS  0.265537\n",
       "37            Wheelchair  0.265537\n",
       "25          *Unspecified  0.259887\n",
       "24              Low Temp  0.259887\n",
       "27         Community EMS  0.259887\n",
       "31          Med Star EMS  0.259887\n",
       "16                 40-49  0.259887\n",
       "34    Rapid Response EMS  0.259887"
      ]
     },
     "execution_count": 101,
     "metadata": {},
     "output_type": "execute_result"
    }
   ],
   "source": [
    "pd.DataFrame(preds, columns=['predictor', 'accuracy']).sort_values(by='accuracy', ascending=False)"
   ]
  },
  {
   "cell_type": "code",
   "execution_count": 102,
   "metadata": {},
   "outputs": [
    {
     "name": "stdout",
     "output_type": "stream",
     "text": [
      "              precision    recall  f1-score   support\n",
      "\n",
      "     (-1, 4]       0.59      0.60      0.59        45\n",
      "    (4, 200]       0.86      0.86      0.86       132\n",
      "\n",
      "    accuracy                           0.79       177\n",
      "   macro avg       0.72      0.73      0.73       177\n",
      "weighted avg       0.79      0.79      0.79       177\n",
      "\n"
     ]
    }
   ],
   "source": [
    "cols = ['Emergency', 'Inpatient', '20-29', '10-19']\n",
    "tree = DecisionTreeClassifier()\n",
    "tree.fit(X_resampled.loc[:, cols], y_resampled)\n",
    "print(classification_report(tree.predict(X_test.loc[:, cols]), y_test))"
   ]
  },
  {
   "cell_type": "code",
   "execution_count": 103,
   "metadata": {},
   "outputs": [],
   "source": [
    "#tree = DecisionTreeClassifier(max_depth=5)\n",
    "#tree.fit(X_resampled.dropna(axis=1), y_resampled)\n",
    "#print(classification_report(tree.predict(X_test), y_test))"
   ]
  },
  {
   "cell_type": "code",
   "execution_count": null,
   "metadata": {},
   "outputs": [],
   "source": []
  },
  {
   "cell_type": "code",
   "execution_count": 104,
   "metadata": {},
   "outputs": [
    {
     "name": "stdout",
     "output_type": "stream",
     "text": [
      "              precision    recall  f1-score   support\n",
      "\n",
      "     (-1, 4]       0.59      0.66      0.62        41\n",
      "    (4, 200]       0.89      0.86      0.88       136\n",
      "\n",
      "    accuracy                           0.81       177\n",
      "   macro avg       0.74      0.76      0.75       177\n",
      "weighted avg       0.82      0.81      0.82       177\n",
      "\n"
     ]
    }
   ],
   "source": [
    "col = 'Emergency'\n",
    "tree = DecisionTreeClassifier(max_depth=1)\n",
    "tree.fit(X_resampled.loc[:, [col]], y_resampled)\n",
    "print(classification_report(tree.predict(X_test.loc[:, [col]]), y_test))"
   ]
  },
  {
   "cell_type": "code",
   "execution_count": 105,
   "metadata": {},
   "outputs": [
    {
     "data": {
      "text/plain": [
       "[]"
      ]
     },
     "execution_count": 105,
     "metadata": {},
     "output_type": "execute_result"
    },
    {
     "data": {
      "image/png": "[encoded data removed]",
      "text/plain": [
       "<Figure size 1440x720 with 1 Axes>"
      ]
     },
     "metadata": {
      "needs_background": "light"
     },
     "output_type": "display_data"
    }
   ],
   "source": [
    "plt.figure(figsize=(20,10))\n",
    "plot_tree(tree, fontsize=12, feature_names=X_train.columns)\n",
    "plt.plot()"
   ]
  },
  {
   "cell_type": "markdown",
   "metadata": {},
   "source": [
    "## Random Forest"
   ]
  },
  {
   "cell_type": "code",
   "execution_count": 106,
   "metadata": {},
   "outputs": [],
   "source": [
    "from sklearn.ensemble import RandomForestClassifier"
   ]
  },
  {
   "cell_type": "code",
   "execution_count": 107,
   "metadata": {},
   "outputs": [
    {
     "name": "stdout",
     "output_type": "stream",
     "text": [
      "              precision    recall  f1-score   support\n",
      "\n",
      "     (-1, 4]       0.41      0.51      0.46        37\n",
      "    (4, 200]       0.86      0.81      0.83       140\n",
      "\n",
      "    accuracy                           0.75       177\n",
      "   macro avg       0.64      0.66      0.65       177\n",
      "weighted avg       0.77      0.75      0.76       177\n",
      "\n"
     ]
    }
   ],
   "source": [
    "forest = RandomForestClassifier()\n",
    "forest.fit(X_resampled.dropna(axis=1), y_resampled)\n",
    "print(classification_report(forest.predict(X_test.dropna(axis=1)), y_test))"
   ]
  },
  {
   "cell_type": "markdown",
   "metadata": {},
   "source": [
    "### Logistic Regression:"
   ]
  },
  {
   "cell_type": "code",
   "execution_count": 109,
   "metadata": {},
   "outputs": [
    {
     "name": "stdout",
     "output_type": "stream",
     "text": [
      "Accuracy 0.6231914157147802\n"
     ]
    }
   ],
   "source": [
    "# penalty='elasticnet', l1_ratio=0.005, \n",
    "lr_multi = LogisticRegression(penalty='elasticnet', max_iter=1200, l1_ratio=0.005, solver='saga', class_weight='balanced')\n",
    "acc = cross_validate(lr_multi, X.dropna(axis=1), y_bins, cv=5)['test_score'].mean()\n",
    "print('Accuracy', acc)"
   ]
  },
  {
   "cell_type": "code",
   "execution_count": 110,
   "metadata": {},
   "outputs": [
    {
     "name": "stdout",
     "output_type": "stream",
     "text": [
      "              precision    recall  f1-score   support\n",
      "\n",
      "     (-1, 4]       0.59      0.66      0.62        41\n",
      "    (4, 200]       0.89      0.86      0.88       136\n",
      "\n",
      "    accuracy                           0.81       177\n",
      "   macro avg       0.74      0.76      0.75       177\n",
      "weighted avg       0.82      0.81      0.82       177\n",
      "\n"
     ]
    }
   ],
   "source": [
    "X_train, X_test, y_train, y_test = train_test_split(\n",
    "    X, y_bins, test_size=0.33, stratify=y_bins, random_state=42)\n",
    "\n",
    "ros = RandomOverSampler(random_state=0)\n",
    "X_resampled, y_resampled = ros.fit_resample(X_train.loc[:, ['Emergency']], y_train)\n",
    "lr_multi.fit(X_resampled, y_resampled)\n",
    "print(classification_report(lr_multi.predict(X_test.loc[:,['Emergency']]), y_test))"
   ]
  },
  {
   "cell_type": "code",
   "execution_count": 111,
   "metadata": {},
   "outputs": [
    {
     "data": {
      "text/plain": [
       "array([[ 27,  14],\n",
       "       [ 19, 117]])"
      ]
     },
     "execution_count": 111,
     "metadata": {},
     "output_type": "execute_result"
    }
   ],
   "source": [
    "confusion_matrix(lr_multi.predict(X_test.loc[:,['Emergency']]), y_test)"
   ]
  },
  {
   "cell_type": "code",
   "execution_count": 112,
   "metadata": {},
   "outputs": [
    {
     "name": "stdout",
     "output_type": "stream",
     "text": [
      "F1-score: 0.6206896551724138\n"
     ]
    }
   ],
   "source": [
    "f_sc = f1_score(lr_multi.predict(X_test.loc[:,['Emergency']]) == '(-1, 4]', y_test == '(-1, 4]')\n",
    "print('F1-score:', f_sc)"
   ]
  },
  {
   "cell_type": "code",
   "execution_count": 113,
   "metadata": {},
   "outputs": [
    {
     "name": "stdout",
     "output_type": "stream",
     "text": [
      "ROC-AUC: 0.7400431463657484\n"
     ]
    }
   ],
   "source": [
    "print('ROC-AUC:', roc_auc_score(pd.get_dummies(y_test), lr_multi.predict_proba(X_test.loc[:,['Emergency']]), multi_class='ovo'))"
   ]
  },
  {
   "cell_type": "code",
   "execution_count": 114,
   "metadata": {},
   "outputs": [
    {
     "data": {
      "text/plain": [
       "array([[ 27,  14],\n",
       "       [ 19, 117]])"
      ]
     },
     "execution_count": 114,
     "metadata": {},
     "output_type": "execute_result"
    }
   ],
   "source": [
    "confusion_matrix(lr_multi.predict(X_test.loc[:,['Emergency']]), y_test)"
   ]
  },
  {
   "cell_type": "code",
   "execution_count": 115,
   "metadata": {},
   "outputs": [
    {
     "name": "stdout",
     "output_type": "stream",
     "text": [
      "              precision    recall  f1-score   support\n",
      "\n",
      "     (-1, 4]       0.59      0.66      0.62        41\n",
      "    (4, 200]       0.89      0.86      0.88       136\n",
      "\n",
      "    accuracy                           0.81       177\n",
      "   macro avg       0.74      0.76      0.75       177\n",
      "weighted avg       0.82      0.81      0.82       177\n",
      "\n"
     ]
    }
   ],
   "source": [
    "print(classification_report(lr_multi.predict(X_test.loc[:,['Emergency']]), y_test))"
   ]
  },
  {
   "cell_type": "markdown",
   "metadata": {},
   "source": [
    "## SVM"
   ]
  },
  {
   "cell_type": "code",
   "execution_count": 118,
   "metadata": {},
   "outputs": [],
   "source": [
    "from sklearn.svm import SVC"
   ]
  },
  {
   "cell_type": "code",
   "execution_count": 124,
   "metadata": {},
   "outputs": [
    {
     "name": "stdout",
     "output_type": "stream",
     "text": [
      "              precision    recall  f1-score   support\n",
      "\n",
      "     (-1, 4]       0.76      0.34      0.47       103\n",
      "    (4, 200]       0.48      0.85      0.61        74\n",
      "\n",
      "    accuracy                           0.55       177\n",
      "   macro avg       0.62      0.60      0.54       177\n",
      "weighted avg       0.64      0.55      0.53       177\n",
      "\n"
     ]
    }
   ],
   "source": [
    "X_train, X_test, y_train, y_test = train_test_split(\n",
    "    X.dropna(axis=1), y_bins, test_size=0.33, stratify=y_bins, random_state=42)\n",
    "\n",
    "ros = RandomOverSampler(random_state=0)\n",
    "X_resampled, y_resampled = ros.fit_resample(X_train, y_train)\n",
    "svm = SVC()\n",
    "svm.fit(X_resampled, y_resampled)\n",
    "print(classification_report(svm.predict(X_test), y_test))"
   ]
  },
  {
   "cell_type": "code",
   "execution_count": null,
   "metadata": {},
   "outputs": [],
   "source": []
  },
  {
   "cell_type": "markdown",
   "metadata": {},
   "source": [
    "## Analyze coefficients of logistic regression (to be updated for new models)"
   ]
  },
  {
   "cell_type": "code",
   "execution_count": 133,
   "metadata": {},
   "outputs": [
    {
     "data": {
      "text/plain": [
       "'Emergency'"
      ]
     },
     "execution_count": 133,
     "metadata": {},
     "output_type": "execute_result"
    }
   ],
   "source": [
    "coefs = pd.DataFrame([[n,c]for n, c in zip(X.columns, lr_multi.coef_[0])], columns=['name', 'coef'])\n",
    "coefs.name[coefs.coef.argmax()]"
   ]
  },
  {
   "cell_type": "code",
   "execution_count": 134,
   "metadata": {},
   "outputs": [
    {
     "data": {
      "text/plain": [
       "4    -0.547092\n",
       "7    -0.293011\n",
       "22   -0.136971\n",
       "0    -0.125691\n",
       "6    -0.111561\n",
       "9    -0.104872\n",
       "16   -0.084761\n",
       "21   -0.051215\n",
       "3    -0.029166\n",
       "10   -0.026375\n",
       "14   -0.026114\n",
       "15   -0.014936\n",
       "1    -0.014465\n",
       "20    0.007940\n",
       "17    0.027772\n",
       "11    0.070871\n",
       "19    0.072204\n",
       "12    0.131002\n",
       "5     0.193715\n",
       "18    0.230141\n",
       "13    0.439982\n",
       "2     0.440476\n",
       "8     0.831302\n",
       "Name: coef, dtype: float64"
      ]
     },
     "execution_count": 134,
     "metadata": {},
     "output_type": "execute_result"
    }
   ],
   "source": [
    "coefs.coef.sort_values()"
   ]
  },
  {
   "cell_type": "code",
   "execution_count": 137,
   "metadata": {},
   "outputs": [
    {
     "data": {
      "text/plain": [
       "4       CKD\n",
       "7    Stroke\n",
       "Name: name, dtype: object"
      ]
     },
     "execution_count": 137,
     "metadata": {},
     "output_type": "execute_result"
    }
   ],
   "source": [
    "coefs.name[[4,7]]"
   ]
  }
 ],
 "metadata": {
  "kernelspec": {
   "display_name": "Python 3",
   "language": "python",
   "name": "python3"
  },
  "language_info": {
   "codemirror_mode": {
    "name": "ipython",
    "version": 3
   },
   "file_extension": ".py",
   "mimetype": "text/x-python",
   "name": "python",
   "nbconvert_exporter": "python",
   "pygments_lexer": "ipython3",
   "version": "3.7.4"
  }
 },
 "nbformat": 4,
 "nbformat_minor": 4
}
